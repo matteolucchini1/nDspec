{
 "cells": [
  {
   "cell_type": "markdown",
   "id": "46b21fcb-ac68-4e99-92af-a596e3889c79",
   "metadata": {},
   "source": [
    "# Optimizing an instrument response\n",
    "\n",
    "In this notebook I will talk about how to optimize folding the response"
   ]
  },
  {
   "cell_type": "code",
   "execution_count": 2,
   "id": "7f92ab70-9bad-45fc-83cf-60a6e5c559a1",
   "metadata": {},
   "outputs": [
    {
     "name": "stdout",
     "output_type": "stream",
     "text": [
      "Hello world!\n"
     ]
    }
   ],
   "source": [
    "print(\"Hello world!\")"
   ]
  },
  {
   "cell_type": "code",
   "execution_count": null,
   "id": "d10ec27d-69bc-49d4-9a0c-12063ba07cfc",
   "metadata": {},
   "outputs": [],
   "source": [
    "#test that pyxspec works lol\n",
    "from xspec import *"
   ]
  }
 ],
 "metadata": {
  "kernelspec": {
   "display_name": "Python 3 (ipykernel)",
   "language": "python",
   "name": "python3"
  },
  "language_info": {
   "codemirror_mode": {
    "name": "ipython",
    "version": 3
   },
   "file_extension": ".py",
   "mimetype": "text/x-python",
   "name": "python",
   "nbconvert_exporter": "python",
   "pygments_lexer": "ipython3",
   "version": "3.10.12"
  }
 },
 "nbformat": 4,
 "nbformat_minor": 5
}
